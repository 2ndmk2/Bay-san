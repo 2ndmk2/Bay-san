{
 "cells": [
  {
   "cell_type": "code",
   "execution_count": 149,
   "metadata": {},
   "outputs": [],
   "source": [
    "import numpy as np\n",
    "import matplotlib.pyplot as plt\n",
    "\n",
    "n_obs = 100\n",
    "sigma_obs = 0.1\n",
    "sigma_tentai = 0.1\n",
    "sigma_sum = (sigma_obs**2 + sigma_tentai**2)**0.5\n",
    "lcs = np.random.randn(n_obs)* sigma_sum\n",
    "plt.plot(lcs)\n",
    "plt.show()\n",
    "print(\"Observed sigma = %f\" % np.std(lcs))\n",
    "print(\"Input sigma = %f\" % sigma_tentai )\n",
    "print(\"Observational error = %f\" % sigma_obs)"
   ]
  },
  {
   "cell_type": "code",
   "execution_count": 157,
   "metadata": {},
   "outputs": [],
   "source": [
    "## p( sigma_tentai | lcs, sigma_obs)\n",
    "## p( sigma_tentai | lcs, sigma_obs) ∝ p( lcs | sigma_tentai, sigma_obs) * p(sigma_tentai)\n",
    "\n",
    "## gaussian likelihood \n",
    "def p_lcs_given_sigma_tentai(lcs, sigma_obs, sigma_tentai):\n",
    "    m = 0\n",
    "    sigma_now = np.sqrt(sigma_obs**2 + sigma_tentai**2)\n",
    "    test = np.prod( (1/(np.sqrt(2 * np.pi) * sigma_now)) * np.exp( - ((lcs-m)**2)/(2 * sigma_now**2)))\n",
    "    return test\n",
    "\n",
    "## uniform distribution from min to max\n",
    "def p_sigma_tentai(sigma_tentai, sigma_min =0 , sigma_max = 1):\n",
    "    \n",
    "    takasa = 1.0/(sigma_max- sigma_min)\n",
    "    \n",
    "    if sigma_tentai >= sigma_min and sigma_tentai <= sigma_max:\n",
    "        return takasa\n",
    "    else:\n",
    "        return 0\n",
    "\n",
    "sigma_tentai_arr = np.linspace(0,1,1000)\n",
    "p_posterior_sigma =[]\n",
    "\n",
    "for tentai_dmy in sigma_tentai_arr:\n",
    "    p_likelihood = p_lcs_given_sigma_tentai(lcs, sigma_obs, tentai_dmy)\n",
    "    p_prior = p_sigma_tentai(tentai_dmy)\n",
    "    \n",
    "    p_posteior = p_likelihood * p_prior\n",
    "    p_posterior_sigma.append(p_posteior)\n",
    "    \n",
    "p_posterior_sigma = np.array(p_posterior_sigma)   \n",
    "    "
   ]
  },
  {
   "cell_type": "code",
   "execution_count": 163,
   "metadata": {},
   "outputs": [
    {
     "data": {
      "text/plain": [
       "[<matplotlib.lines.Line2D at 0x11531cd68>]"
      ]
     },
     "execution_count": 163,
     "metadata": {},
     "output_type": "execute_result"
    },
    {
     "data": {
      "image/png": "[encoded data removed]",
      "text/plain": [
       "<matplotlib.figure.Figure at 0x11531c630>"
      ]
     },
     "metadata": {
      "needs_background": "light"
     },
     "output_type": "display_data"
    }
   ],
   "source": [
    "# p(lcs) = \\int  p( lcs | sigma_tentai, sigma_obs) * p(sigma_tentai) d(sigma_tentai) = \\int p(simga_tentai, lcs | sigma_obs)\n",
    "p_lcs = np.sum(p_posterior_sigma)/1000\n",
    "plt.plot([sigma_tentai,sigma_tentai],[0,np.max( p_posterior_sigma/p_lcs)])\n",
    "plt.plot(sigma_tentai_arr, p_posterior_sigma/p_lcs)"
   ]
  },
  {
   "cell_type": "code",
   "execution_count": null,
   "metadata": {},
   "outputs": [],
   "source": []
  },
  {
   "cell_type": "code",
   "execution_count": null,
   "metadata": {},
   "outputs": [],
   "source": []
  }
 ],
 "metadata": {
  "kernelspec": {
   "display_name": "Python 3",
   "language": "python",
   "name": "python3"
  },
  "language_info": {
   "codemirror_mode": {
    "name": "ipython",
    "version": 3
   },
   "file_extension": ".py",
   "mimetype": "text/x-python",
   "name": "python",
   "nbconvert_exporter": "python",
   "pygments_lexer": "ipython3",
   "version": "3.6.7"
  }
 },
 "nbformat": 4,
 "nbformat_minor": 2
}
